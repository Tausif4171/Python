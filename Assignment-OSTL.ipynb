{
 "cells": [
  {
   "cell_type": "markdown",
   "metadata": {},
   "source": [
    "# Name:  Tausif Khan\n",
    "# Rollno: 12\n",
    "# Branch: SE/COMPS \n",
    "# Div: B\n",
    "# Course Name: Open Source Technology Lab (OSTL) \n"
   ]
  },
  {
   "cell_type": "markdown",
   "metadata": {},
   "source": [
    "1. A Python program to create a dictionary with employee details and retrieve the values upon giving the keys (using the get method). "
   ]
  },
  {
   "cell_type": "code",
   "execution_count": 8,
   "metadata": {},
   "outputs": [
    {
     "name": "stdout",
     "output_type": "stream",
     "text": [
      "Employee Details....\n",
      "John\n",
      "20000\n"
     ]
    }
   ],
   "source": [
    "print(\"Employee Details....\")\n",
    "dict={'Name':'John','Salary':20000}\n",
    "print(dict.get(\"Name\")) \n",
    "print(dict.get(\"Salary\"))"
   ]
  },
  {
   "cell_type": "markdown",
   "metadata": {},
   "source": [
    "2. A Python program to convert the elements of two lists into key-value pairs of a dictionary. "
   ]
  },
  {
   "cell_type": "code",
   "execution_count": 1,
   "metadata": {},
   "outputs": [
    {
     "name": "stdout",
     "output_type": "stream",
     "text": [
      "COUNTRY    -- CAPITAL   \n",
      "India      -- New Delhi \n",
      "USA        -- Washington\n"
     ]
    }
   ],
   "source": [
    "countries=['India','USA']\n",
    "cities=['New Delhi','Washington']\n",
    "#make a dictionary\n",
    "z=zip(countries,cities)\n",
    "d=dict(z)\n",
    "#display key-value pairs from dictionary d\n",
    "print('{:10s} -- {:10s}'.format('COUNTRY','CAPITAL'))\n",
    "for k in d:\n",
    "    print('{:10} -- {:10}'.format(k, d[k]))\n"
   ]
  },
  {
   "cell_type": "markdown",
   "metadata": {},
   "source": [
    "3. A Python program to create a dictionary that does not change the order of elements. "
   ]
  },
  {
   "cell_type": "code",
   "execution_count": 25,
   "metadata": {
    "scrolled": true
   },
   "outputs": [
    {
     "name": "stdout",
     "output_type": "stream",
     "text": [
      "1 Mango\n",
      "2 Banana\n",
      "3 apple\n",
      "4 orange\n"
     ]
    }
   ],
   "source": [
    "from collections import OrderedDict\n",
    "d=OrderedDict()\n",
    "d[1]='Mango'\n",
    "d[2]='Banana'\n",
    "d[3]='apple'\n",
    "d[4]='orange'\n",
    "#display the ordered Dictionary\n",
    "for i,j in d.items():\n",
    "    print(i,j)"
   ]
  },
  {
   "cell_type": "markdown",
   "metadata": {},
   "source": [
    "4. A Python program to sort the elements of a dictionary based on a key or value"
   ]
  },
  {
   "cell_type": "code",
   "execution_count": 63,
   "metadata": {},
   "outputs": [
    {
     "name": "stdout",
     "output_type": "stream",
     "text": [
      "apple: 5\n",
      "banana: 3\n",
      "grapes: 1\n",
      "mango: 2\n"
     ]
    }
   ],
   "source": [
    "mydict = {\n",
    "    \"apple\": 5,\n",
    "    \"mango\": 2,\n",
    "    \"grapes\": 1,\n",
    "    \"banana\": 3,\n",
    "}\n",
    "\n",
    "for key in sorted(mydict.keys()):\n",
    "    print(\"%s: %s\" % (key, mydict[key]))"
   ]
  },
  {
   "cell_type": "markdown",
   "metadata": {},
   "source": [
    "5. A Python program to find maximum and minimum elements in a list of elements. "
   ]
  },
  {
   "cell_type": "code",
   "execution_count": 15,
   "metadata": {},
   "outputs": [
    {
     "name": "stdout",
     "output_type": "stream",
     "text": [
      "Maximum 7\n",
      "Minimum 1\n"
     ]
    }
   ],
   "source": [
    "list1=[2,4,5,7,1]\n",
    "print('Maximum',max(list1))\n",
    "print('Minimum',min(list1))"
   ]
  },
  {
   "cell_type": "markdown",
   "metadata": {},
   "source": [
    "6. A Python program to sort the list elements using bubble sort technique."
   ]
  },
  {
   "cell_type": "code",
   "execution_count": 7,
   "metadata": {},
   "outputs": [
    {
     "name": "stdout",
     "output_type": "stream",
     "text": [
      "[1, 2, 4, 5, 7]\n"
     ]
    }
   ],
   "source": [
    "list1=[2,4,5,7,1]\n",
    "\n",
    "for j in range(len(list1)):\n",
    "    swap=False\n",
    "    i=0\n",
    "    while i<len(list1)-1:\n",
    "        if list1[i]>list1[i+1]:\n",
    "            #swapping\n",
    "            list1[i],list1[i+1] = list1[i+1],list1[i]\n",
    "            #changing the value of swapped\n",
    "            swap=True\n",
    "        i=i+1\n",
    "    if swap == False:\n",
    "        break\n",
    "print(list1)\n",
    "        \n",
    "    "
   ]
  },
  {
   "cell_type": "markdown",
   "metadata": {},
   "source": [
    "7. A Python program to know how many times an element occurred in the list. "
   ]
  },
  {
   "cell_type": "code",
   "execution_count": 6,
   "metadata": {},
   "outputs": [
    {
     "name": "stdout",
     "output_type": "stream",
     "text": [
      "8 has occurred 5 times\n"
     ]
    }
   ],
   "source": [
    "lst = [8, 6, 8, 10, 8, 20, 10, 8, 8]\n",
    "x = 8\n",
    "def count(lst, x): \n",
    "    return lst.count(x) \n",
    "print('{} has occurred {} times'.format(x, count(lst, x))) "
   ]
  },
  {
   "cell_type": "markdown",
   "metadata": {},
   "source": [
    "8. A Python program to accept elements in the form of a tuple and display their sum and average. "
   ]
  },
  {
   "cell_type": "code",
   "execution_count": 25,
   "metadata": {},
   "outputs": [
    {
     "name": "stdout",
     "output_type": "stream",
     "text": [
      "Enter Elements in tuple Format: (1,2,3)\n",
      "Sum of numbers:  6\n",
      "Sum of numbers:  2.0\n"
     ]
    }
   ],
   "source": [
    "num=eval(input(\"Enter Elements in tuple Format: \"))\n",
    "sum=0\n",
    "n=len(num)\n",
    "for i in range(n): #repeat i from 0 to n-1\n",
    "    sum+=num[i] #add each element to sum\n",
    "print('Sum of numbers: ',sum) #display sum\n",
    "print('Sum of numbers: ',sum/n) #display average\n",
    "\n",
    "    "
   ]
  },
  {
   "cell_type": "markdown",
   "metadata": {},
   "source": [
    "9.A Python program to find the first occurrence of an element in a tuple. "
   ]
  },
  {
   "cell_type": "code",
   "execution_count": 1,
   "metadata": {},
   "outputs": [
    {
     "name": "stdout",
     "output_type": "stream",
     "text": [
      "Enter elements in tuple : 10,20,30,40\n",
      "The tuple is:  (10, 20, 30, 40)\n",
      "enter an element to search: 20\n",
      "Enter position numbere:  2\n"
     ]
    }
   ],
   "source": [
    "str=input(\"Enter elements in tuple : \").split(',')\n",
    "lst=[int(num) for num in str] #convert strings into integers and store into a list\n",
    "tuple=tuple(lst) #convert list into tuple\n",
    "print('The tuple is: ',tuple) #display the tuple\n",
    "ele=int(input(\"enter an element to search: \"))\n",
    "try:\n",
    "    pos=tuple.index(ele)  #returns first occurence of element\n",
    "    print('Enter position numbere: ',pos+1)\n",
    "except ValueError:         #if element not found, ValueError will rise\n",
    "    print(\"Element not found in tuple\")"
   ]
  },
  {
   "cell_type": "markdown",
   "metadata": {},
   "source": [
    "10. a). A Python program to modify or replace an existing element of a tuple with a new element. "
   ]
  },
  {
   "cell_type": "code",
   "execution_count": 27,
   "metadata": {},
   "outputs": [
    {
     "name": "stdout",
     "output_type": "stream",
     "text": [
      "(10, 50, 20, 9, 40, 100, 60, 30, 1, 56)\n"
     ]
    }
   ],
   "source": [
    "Tuple1=(10,50,20,9,40,25,60,30,1,56)\n",
    "List1=list(Tuple1)\n",
    "List1[5]=100\n",
    "Tuple1=tuple(List1)\n",
    "print(Tuple1)"
   ]
  },
  {
   "cell_type": "markdown",
   "metadata": {},
   "source": [
    "10. b). A Python program to delete an element from a particular position in the tuple. "
   ]
  },
  {
   "cell_type": "code",
   "execution_count": 31,
   "metadata": {},
   "outputs": [
    {
     "name": "stdout",
     "output_type": "stream",
     "text": [
      "(10, 50, 20, 9, 40, 25, 60, 30, 1, 56)\n",
      "Enter position no: 2\n",
      "(10, 20, 9, 40, 25, 60, 30, 1, 56)\n"
     ]
    }
   ],
   "source": [
    "tuple=(10,50,20,9,40,25,60,30,1,56)\n",
    "print(tuple)\n",
    "pos=int(input('Enter position no: '))\n",
    "#copy from 0th to pos-2 into another tuple tuple1\n",
    "tuple1 = tuple[0:pos-1]\n",
    "#concatenate the remaining elements of tuple from pos till end\n",
    "tuple=tuple1+tuple[pos:]\n",
    "print(tuple)\n"
   ]
  },
  {
   "cell_type": "markdown",
   "metadata": {},
   "source": [
    "11. a). A Python program to display all positions of a sub string in a given main string. "
   ]
  },
  {
   "cell_type": "code",
   "execution_count": 32,
   "metadata": {},
   "outputs": [
    {
     "name": "stdout",
     "output_type": "stream",
     "text": [
      "Found \"Assignment\" at 7:17\n",
      "Found \"Assignment\" at 23:33\n",
      "Found \"Assignment\" at 38:48\n"
     ]
    }
   ],
   "source": [
    "import re\n",
    "text = 'Python Assignment, PHP Assignment, C# Assignment'\n",
    "pattern = 'Assignment'\n",
    "for match in re.finditer(pattern, text):\n",
    "    A = match.start()\n",
    "    t = match.end()\n",
    "    print('Found \"%s\" at %d:%d' % (text[A:t], A , t))"
   ]
  },
  {
   "cell_type": "markdown",
   "metadata": {},
   "source": [
    "11. b). A Python program to sort a group of strings into alphabetical order. "
   ]
  },
  {
   "cell_type": "code",
   "execution_count": 42,
   "metadata": {},
   "outputs": [
    {
     "name": "stdout",
     "output_type": "stream",
     "text": [
      "How many strings? 4\n",
      "Enter string: apple\n",
      "Enter string: mango\n",
      "Enter string: grapes\n",
      "Enter string: banana\n",
      "Sorted list into alphabetical order: \n",
      "apple\n",
      "banana\n",
      "grapes\n",
      "mango\n"
     ]
    }
   ],
   "source": [
    "str=[]\n",
    "n=int(input('How many strings? '))\n",
    "#append strings to str array\n",
    "for i in range(n):\n",
    "    print('Enter string: ',end='')\n",
    "    str.append(input())\n",
    "#sort the array\n",
    "str1=sorted(str)\n",
    "#display the sorted array\n",
    "print('Sorted list into alphabetical order: ')\n",
    "for i in str1:\n",
    "    print(i)\n",
    "    "
   ]
  },
  {
   "cell_type": "markdown",
   "metadata": {},
   "source": [
    "12. a). A Python program to storing student’s marks into an array and finding total marks and percentage of marks "
   ]
  },
  {
   "cell_type": "code",
   "execution_count": 60,
   "metadata": {},
   "outputs": [
    {
     "name": "stdout",
     "output_type": "stream",
     "text": [
      "enter marks85 85 90 95 86\n",
      "85\n",
      "85\n",
      "90\n",
      "95\n",
      "86\n",
      "Total marks:  441\n",
      "Percentage:  88.2\n"
     ]
    }
   ],
   "source": [
    "from array import *\n",
    "str=input(\"enter marks\").split(' ')\n",
    "#store the marks into 'marks' array\n",
    "marks=[int(num) for num in str]\n",
    "#display the marks and find total\n",
    "sum=0\n",
    "for x in marks:\n",
    "    print(x)\n",
    "    sum+=x\n",
    "print('Total marks: ',sum)\n",
    "#display percentage\n",
    "n=len(marks)\n",
    "percent=sum/n\n",
    "print('Percentage: ',percent)"
   ]
  },
  {
   "cell_type": "markdown",
   "metadata": {},
   "source": [
    "12. b). A Python program to sort the array elements using bubble sort technique.  "
   ]
  },
  {
   "cell_type": "code",
   "execution_count": 43,
   "metadata": {},
   "outputs": [
    {
     "name": "stdout",
     "output_type": "stream",
     "text": [
      "[1, 2, 4, 5, 7]\n"
     ]
    }
   ],
   "source": [
    "arr=[2,4,5,7,1]\n",
    "\n",
    "for j in range(len(arr)):\n",
    "    swap=False\n",
    "    i=0\n",
    "    while i<len(arr)-1:\n",
    "        if arr[i]>arr[i+1]:\n",
    "            #swapping\n",
    "            arr[i],arr[i+1] = arr[i+1],arr[i]\n",
    "            #changing the value of swapped\n",
    "            swap=True\n",
    "        i=i+1\n",
    "    if swap == False:\n",
    "        break\n",
    "print(arr)\n",
    "        "
   ]
  },
  {
   "cell_type": "markdown",
   "metadata": {},
   "source": [
    "13. A Python program to perform some mathematical operations on a numpy array (addition, subtraction, multiplication). "
   ]
  },
  {
   "cell_type": "code",
   "execution_count": 48,
   "metadata": {},
   "outputs": [
    {
     "name": "stdout",
     "output_type": "stream",
     "text": [
      "Adding 10: array([[15, 20],\n",
      "       [25, 30]])\n",
      "Multiplying by 5: array([[ 25,  50],\n",
      "       [ 75, 100]])\n",
      "Subtracting 5: array([[ 0,  5],\n",
      "       [10, 15]])\n"
     ]
    }
   ],
   "source": [
    "import numpy as np\n",
    "\n",
    "arr = np.array([[5, 10], [15, 20]])\n",
    "# Add 10 to element values\n",
    "print(\"Adding 10: \" + repr(arr + 10))\n",
    "\n",
    "# Multiple elements by 5\n",
    "print(\"Multiplying by 5: \" + repr(arr * 5))\n",
    "\n",
    "# Subtract 5 from elements\n",
    "print(\"Subtracting 5: \" + repr(arr - 5))\n"
   ]
  },
  {
   "cell_type": "markdown",
   "metadata": {},
   "source": [
    "14. a). A Python program to create Student class with a constructor having more than one parameter. "
   ]
  },
  {
   "cell_type": "code",
   "execution_count": 62,
   "metadata": {},
   "outputs": [
    {
     "name": "stdout",
     "output_type": "stream",
     "text": [
      "Name: Tausif \n",
      "Rollno: 12 \n",
      "Name: Rehan \n",
      "Rollno: 13 \n"
     ]
    }
   ],
   "source": [
    "class student:\n",
    "    def __init__(self,name,rollno):\n",
    "        self.name=name\n",
    "        self.rollno=rollno\n",
    "    def print_details(self):\n",
    "        print(\"Name: %s \\nRollno: %d \"%(self.name,self.rollno))  \n",
    "obj=student(\"Tausif\",12)\n",
    "obj1=student(\"Rehan\",13)\n",
    "obj.print_details()\n",
    "obj1.print_details()"
   ]
  },
  {
   "cell_type": "markdown",
   "metadata": {},
   "source": [
    "14. b). A Python program to create a static method that calculates the square root value of a given number."
   ]
  },
  {
   "cell_type": "code",
   "execution_count": 61,
   "metadata": {},
   "outputs": [
    {
     "name": "stdout",
     "output_type": "stream",
     "text": [
      "The sum is: 2.8284271247461903\n"
     ]
    }
   ],
   "source": [
    "import math\n",
    "class Mathematics:\n",
    "\n",
    "    def SquareRoot(x):\n",
    "        return math.sqrt(x)\n",
    "\n",
    "# create SquareRoot static method\n",
    "Mathematics.SquareRoot = staticmethod(Mathematics.SquareRoot)\n",
    "\n",
    "print('The sum is:', Mathematics.SquareRoot(8))"
   ]
  },
  {
   "cell_type": "markdown",
   "metadata": {},
   "source": [
    "15. a). A Python program to prove that only one class constructor is available to sub class in multiple inheritance."
   ]
  },
  {
   "cell_type": "code",
   "execution_count": 51,
   "metadata": {},
   "outputs": [
    {
     "name": "stdout",
     "output_type": "stream",
     "text": [
      "Subject:Python\n",
      "Name:Tausif\n"
     ]
    }
   ],
   "source": [
    "class A(object):\n",
    "    def __init__(self):\n",
    "        self.name='Tausif'\n",
    "        print('Name:'+self.name)\n",
    "class B(object):\n",
    "    def __init__(self):\n",
    "        self.rollno=12\n",
    "        print('Rollno:'+self.rollno)\n",
    "class C(A,B):\n",
    "    def __init__(self):\n",
    "        self.subject='Python'\n",
    "        print('Subject:'+self.subject)\n",
    "        super().__init__()\n",
    "o=C()\n",
    "        "
   ]
  },
  {
   "cell_type": "markdown",
   "metadata": {},
   "source": [
    "15. b). A Python program to access all the instances variables of both the base classes in multiple inheritance "
   ]
  },
  {
   "cell_type": "code",
   "execution_count": 3,
   "metadata": {},
   "outputs": [
    {
     "name": "stdout",
     "output_type": "stream",
     "text": [
      "Subject: Python\n",
      "Name: Tausif\n",
      "Rollno: 12\n"
     ]
    }
   ],
   "source": [
    "class A(object):\n",
    "    def __init__(self):\n",
    "        self.name='Tausif'\n",
    "        print('Name:',self.name)\n",
    "        super().__init__()\n",
    "        \n",
    "class B(object):\n",
    "    def __init__(self):\n",
    "        self.rollno=12\n",
    "        print('Rollno:',self.rollno)\n",
    "        super().__init__()\n",
    "        \n",
    "class C(A,B):\n",
    "    def __init__(self):\n",
    "        self.subject='Python'\n",
    "        print('Subject:',self.subject)\n",
    "        super().__init__()\n",
    "        \n",
    "o=C()\n",
    "        "
   ]
  },
  {
   "cell_type": "code",
   "execution_count": 4,
   "metadata": {},
   "outputs": [],
   "source": []
  },
  {
   "cell_type": "code",
   "execution_count": null,
   "metadata": {},
   "outputs": [],
   "source": []
  }
 ],
 "metadata": {
  "kernelspec": {
   "display_name": "Python 3",
   "language": "python",
   "name": "python3"
  },
  "language_info": {
   "codemirror_mode": {
    "name": "ipython",
    "version": 3
   },
   "file_extension": ".py",
   "mimetype": "text/x-python",
   "name": "python",
   "nbconvert_exporter": "python",
   "pygments_lexer": "ipython3",
   "version": "3.7.4"
  }
 },
 "nbformat": 4,
 "nbformat_minor": 2
}
