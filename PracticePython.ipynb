{
 "cells": [
  {
   "cell_type": "code",
   "execution_count": 3,
   "metadata": {},
   "outputs": [
    {
     "name": "stdout",
     "output_type": "stream",
     "text": [
      "enter 1st number10\n",
      "enter 2nd number20\n",
      "sum 30\n",
      "sum -10\n",
      "sum 200\n",
      "sum 0.5\n",
      "sum 10\n"
     ]
    }
   ],
   "source": [
    "a=int(input('enter 1st number'))\n",
    "b=int(input('enter 2nd number'))\n",
    "if (a!=0):\n",
    "    #c=a+b\n",
    "    print(\"sum\",a+b)\n",
    "    print(\"sum\",a-b)\n",
    "    print(\"sum\",a*b)\n",
    "    print(\"sum\",a/b)\n",
    "    print(\"sum\",a%b)\n",
    "else:\n",
    "    print('enter number greater than zero')\n",
    "\n",
    "    "
   ]
  },
  {
   "cell_type": "code",
   "execution_count": 5,
   "metadata": {},
   "outputs": [
    {
     "name": "stdout",
     "output_type": "stream",
     "text": [
      "tausif\n",
      "10\n",
      "0.5\n",
      "0.5\n",
      "1\n",
      "apple\n",
      "('tausif', 10, 0.5)\n",
      "tausif\n",
      "10\n",
      "0.5\n",
      "{'name': 'Tausif', 'salary': 100000}\n"
     ]
    }
   ],
   "source": [
    "c=1\n",
    "if (c!=0):\n",
    "    list=['tausif',10,0.5]\n",
    "    for i in list:\n",
    "        print(i)\n",
    "    set={'apple',1,0.5}\n",
    "    for i in set:\n",
    "        print(i)\n",
    "    tuples=('tausif',10,0.5)\n",
    "    print(tuples)\n",
    "    for i in tuples:\n",
    "        print(i)\n",
    "    dict={'name':'Tausif','salary':100000}\n",
    "    print(dict)"
   ]
  },
  {
   "cell_type": "code",
   "execution_count": 31,
   "metadata": {},
   "outputs": [
    {
     "name": "stdout",
     "output_type": "stream",
     "text": [
      "welcome to python\n",
      "40\n",
      "20\n",
      "30\n"
     ]
    }
   ],
   "source": [
    "str=\"welcome to python\"\n",
    "print(str)\n",
    "elements=[10,20,30]\n",
    "x=bytearray(elements)\n",
    "x[0]=40\n",
    "for i in x:\n",
    "    print(i)"
   ]
  },
  {
   "cell_type": "code",
   "execution_count": 1,
   "metadata": {},
   "outputs": [
    {
     "name": "stdout",
     "output_type": "stream",
     "text": [
      "10\n",
      "12\n",
      "14\n",
      "16\n",
      "18\n"
     ]
    }
   ],
   "source": [
    "r=range(10,20,2)\n",
    "for i in r:\n",
    "    print(i)"
   ]
  },
  {
   "cell_type": "code",
   "execution_count": 10,
   "metadata": {},
   "outputs": [
    {
     "name": "stdout",
     "output_type": "stream",
     "text": [
      "False\n"
     ]
    }
   ],
   "source": [
    "x=12\n",
    "print(not x)"
   ]
  },
  {
   "cell_type": "code",
   "execution_count": 4,
   "metadata": {},
   "outputs": [
    {
     "name": "stdout",
     "output_type": "stream",
     "text": [
      "140714003965072\n",
      "140714003964432\n"
     ]
    }
   ],
   "source": [
    "a=25\n",
    "print(id(a))\n",
    "b=5\n",
    "print(id(b))\n"
   ]
  },
  {
   "cell_type": "code",
   "execution_count": 6,
   "metadata": {},
   "outputs": [
    {
     "name": "stdout",
     "output_type": "stream",
     "text": [
      "4.0\n"
     ]
    }
   ],
   "source": [
    "import math as m\n",
    "x=m.sqrt(16)\n",
    "print(x)"
   ]
  },
  {
   "cell_type": "code",
   "execution_count": 12,
   "metadata": {},
   "outputs": [
    {
     "name": "stdout",
     "output_type": "stream",
     "text": [
      "enter three number10,20,30\n",
      "sum=  60\n"
     ]
    }
   ],
   "source": [
    "a,b,c=[int(x) for x in input(\"enter three number\").split(',')]\n",
    "print('sum= ',a+b+c)"
   ]
  },
  {
   "cell_type": "code",
   "execution_count": 14,
   "metadata": {},
   "outputs": [
    {
     "name": "stdout",
     "output_type": "stream",
     "text": [
      "enter string: tausif,rehan,faizan\n",
      "Name=  ['tausif', 'rehan', 'faizan']\n"
     ]
    }
   ],
   "source": [
    "x=[x for x in input(\"enter string: \").split(',')]\n",
    "print('Name= ',x)"
   ]
  },
  {
   "cell_type": "code",
   "execution_count": 16,
   "metadata": {},
   "outputs": [
    {
     "name": "stdout",
     "output_type": "stream",
     "text": [
      "enter an expression1+2+3\n",
      "evaluation:  6\n",
      "enter list: ['tausif',10,4.5]\n",
      "list are:  ['tausif', 10, 4.5]\n",
      "enter tuple('rehan',10,4.5)\n",
      "tuple are:  ('rehan', 10, 4.5)\n"
     ]
    }
   ],
   "source": [
    "x=eval(input('enter an expression'))\n",
    "print('evaluation: ',x)\n",
    "y=eval(input(\"enter list: \"))\n",
    "print('list are: ',y)\n",
    "z=eval(input(\"enter tuple\"))\n",
    "print('tuple are: ',z)"
   ]
  },
  {
   "cell_type": "code",
   "execution_count": 4,
   "metadata": {},
   "outputs": [
    {
     "name": "stdout",
     "output_type": "stream",
     "text": [
      "1\n",
      "2\n",
      "3\n",
      "4\n",
      "5\n",
      "6\n",
      "7\n",
      "8\n",
      "9\n",
      "10\n"
     ]
    }
   ],
   "source": [
    "x=1\n",
    "while(x<=10):\n",
    "    print(x)\n",
    "    x+=1\n"
   ]
  },
  {
   "cell_type": "code",
   "execution_count": 2,
   "metadata": {},
   "outputs": [
    {
     "name": "stdout",
     "output_type": "stream",
     "text": [
      "5\n"
     ]
    }
   ],
   "source": [
    "def sum(a,b):\n",
    "    return a+b\n",
    "res=sum(2,3)\n",
    "print(res)"
   ]
  },
  {
   "cell_type": "code",
   "execution_count": 3,
   "metadata": {},
   "outputs": [
    {
     "name": "stdout",
     "output_type": "stream",
     "text": [
      "2 even number\n"
     ]
    }
   ],
   "source": [
    "def even_odd(num):\n",
    "    if(num%2==0):\n",
    "        print(num,'even number')\n",
    "    else:\n",
    "        print(num,'odd number')\n",
    "even_odd(2)"
   ]
  },
  {
   "cell_type": "code",
   "execution_count": null,
   "metadata": {},
   "outputs": [],
   "source": []
  }
 ],
 "metadata": {
  "kernelspec": {
   "display_name": "Python 3",
   "language": "python",
   "name": "python3"
  },
  "language_info": {
   "codemirror_mode": {
    "name": "ipython",
    "version": 3
   },
   "file_extension": ".py",
   "mimetype": "text/x-python",
   "name": "python",
   "nbconvert_exporter": "python",
   "pygments_lexer": "ipython3",
   "version": "3.7.4"
  }
 },
 "nbformat": 4,
 "nbformat_minor": 2
}
