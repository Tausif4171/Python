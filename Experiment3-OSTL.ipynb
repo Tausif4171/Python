{
 "cells": [
  {
   "cell_type": "code",
   "execution_count": 1,
   "metadata": {},
   "outputs": [
    {
     "name": "stdout",
     "output_type": "stream",
     "text": [
      "Enter how many elements u need in Dictionary: \n",
      "2\n",
      "Enter key: Tausif\n",
      "Enter its value: 12\n",
      "Enter key: Parth\n",
      "Enter its value: 6\n",
      "Final Dictionary:  {'Tausif': 12, 'Parth': 6}\n"
     ]
    }
   ],
   "source": [
    "x={}\n",
    "print(\"Enter how many elements u need in Dictionary: \")\n",
    "n=int(input()) #n indicates no. of key-value pairs\n",
    "\n",
    "for i in range(n):\n",
    "    print('Enter key: ',end='')\n",
    "    k=input() #key is string\n",
    "    print('Enter its value: ',end='')\n",
    "    v=int(input()) #value is integer\n",
    "    x.update({k:v}) #store the key-value pair in dictionary x\n",
    "#display the dictionary   \n",
    "print('Final Dictionary: ',x)"
   ]
  },
  {
   "cell_type": "code",
   "execution_count": 5,
   "metadata": {},
   "outputs": [
    {
     "name": "stdout",
     "output_type": "stream",
     "text": [
      "COUNTRY    -- CAPITAL   \n",
      "India      -- New Delhi \n",
      "USA        -- Washigthon\n"
     ]
    }
   ],
   "source": [
    "countries=['India','USA']\n",
    "cities=['New Delhi','Washigthon']\n",
    "z=zip(countries,cities)\n",
    "d=dict(z)\n",
    "#print(d)\n",
    "print('{:10s} -- {:10s}'.format('COUNTRY','CAPITAL'))\n",
    "for k in d:\n",
    "    print('{:10s} -- {:10s}'.format(k,d[k]))"
   ]
  },
  {
   "cell_type": "code",
   "execution_count": 1,
   "metadata": {},
   "outputs": [
    {
     "name": "stdout",
     "output_type": "stream",
     "text": [
      "{'Apple': 12, 'Banana': 13, 'Mango': 14, 'Grapes': 15}\n"
     ]
    }
   ],
   "source": [
    "#converting string into dictionary\n",
    "str=\"Apple=12,Banana=13,Mango=14,Grapes=15\"\n",
    "#break the string at ',' and then at '='\n",
    "#store the pieces into a list lst\n",
    "lst=[]\n",
    "for x in str.split(','):\n",
    "    y=x.split('=')\n",
    "    lst.append(y)\n",
    "#convert the list into dictionary 'd'\n",
    "#but this 'd' will have both name and Rollno as strings\n",
    "d=dict(lst)\n",
    "#print(d)\n",
    "#create a new dictionary 'd1' with name as string\n",
    "#and age as integer\n",
    "d1={}\n",
    "for k,v in d.items():\n",
    "    d1[k]=int(v)\n",
    "#print dictionary\n",
    "print(d1)\n",
    "    "
   ]
  },
  {
   "cell_type": "code",
   "execution_count": null,
   "metadata": {},
   "outputs": [],
   "source": []
  },
  {
   "cell_type": "code",
   "execution_count": null,
   "metadata": {},
   "outputs": [],
   "source": []
  },
  {
   "cell_type": "code",
   "execution_count": 7,
   "metadata": {},
   "outputs": [
    {
     "name": "stdout",
     "output_type": "stream",
     "text": [
      "Enter choice6\n",
      "Value returned:  Tausif\n"
     ]
    }
   ],
   "source": [
    "dict={'Name':'Tausif','Rollno':12}\n",
    "def mainMenu():\n",
    "    selection=int(input(\"Enter choice\"))\n",
    "    if selection==1:\n",
    "        concatenate()\n",
    "    elif selection==2:\n",
    "        pop()\n",
    "    elif selection==3:\n",
    "        keys()\n",
    "    elif selection==4:\n",
    "        values()\n",
    "    elif selection==5:\n",
    "        items()\n",
    "    elif selection==6:\n",
    "        setdefault()\n",
    "    else:\n",
    "        print(\"Enter a valid Selection\")\n",
    "        mainMenu()\n",
    "def concatenate():\n",
    "    dict1={\"Div\":'B'}\n",
    "    print('Concatenate item to dictionary: ',dict.update(dict1))\n",
    "    print(dict)\n",
    "    \n",
    "def pop():\n",
    "    print('Delete item from dictionary: ',dict.pop('Name')) \n",
    "    print(dict)\n",
    "    \n",
    "def keys():\n",
    "    print('keys in dictionary: ',dict.keys())\n",
    "    \n",
    "def values():\n",
    "    print('Values in dictionary: ',dict.values())\n",
    "    \n",
    "def items():\n",
    "    print('Print dictionary items: ',dict.items())\n",
    "    \n",
    "def setdefault():\n",
    "    x = dict.setdefault(\"Name\", \"Mango\")\n",
    "    print('Value returned: ',x)\n",
    "\n",
    "\n",
    "mainMenu()"
   ]
  },
  {
   "cell_type": "code",
   "execution_count": null,
   "metadata": {},
   "outputs": [],
   "source": []
  },
  {
   "cell_type": "code",
   "execution_count": null,
   "metadata": {},
   "outputs": [],
   "source": []
  },
  {
   "cell_type": "code",
   "execution_count": null,
   "metadata": {},
   "outputs": [],
   "source": []
  }
 ],
 "metadata": {
  "kernelspec": {
   "display_name": "Python 3",
   "language": "python",
   "name": "python3"
  },
  "language_info": {
   "codemirror_mode": {
    "name": "ipython",
    "version": 3
   },
   "file_extension": ".py",
   "mimetype": "text/x-python",
   "name": "python",
   "nbconvert_exporter": "python",
   "pygments_lexer": "ipython3",
   "version": "3.7.4"
  }
 },
 "nbformat": 4,
 "nbformat_minor": 2
}
