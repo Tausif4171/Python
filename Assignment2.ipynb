{
 "cells": [
  {
   "cell_type": "markdown",
   "metadata": {},
   "source": [
    "# Assignment 1 Day2\n",
    "submitted by Tausif Khan\n",
    " "
   ]
  },
  {
   "cell_type": "code",
   "execution_count": null,
   "metadata": {},
   "outputs": [],
   "source": [
    "#File Handling"
   ]
  },
  {
   "cell_type": "code",
   "execution_count": null,
   "metadata": {},
   "outputs": [],
   "source": [
    "# Python code to create a file\n",
    "f=open('myfile.txt','w')\n",
    "f.write(\"I Love FCS\\n\")\n",
    "f.write(\"I like to learn new technologies that are trending now a days\\n\")\n",
    "f.write(\"Now currently I am Learning Python3 Course\")\n",
    "f.close()\n",
    "f=open('myfile.txt','r')\n",
    "data=f.read()\n",
    "print(data)\n",
    "\n",
    "\n"
   ]
  },
  {
   "cell_type": "markdown",
   "metadata": {},
   "source": [
    "# Assignment 2 Day2"
   ]
  },
  {
   "cell_type": "code",
   "execution_count": null,
   "metadata": {},
   "outputs": [],
   "source": [
    "a=int(input('enter number'))\n",
    "print(a)\n",
    "if (a>=91 and a<=100):\n",
    "    print('A')\n",
    "elif (a>=81 and a<=90):\n",
    "    print('B')\n",
    "elif(a>=71 and a<=80):\n",
    "    print('C')\n",
    "elif(a>=61 and a<=70):\n",
    "    print('D')\n",
    "elif(a>=51 and a<=60):\n",
    "    print('E')\n",
    "else:\n",
    "    print('FAIL')\n",
    "    "
   ]
  },
  {
   "cell_type": "markdown",
   "metadata": {},
   "source": [
    "# Day2 Assignment3"
   ]
  },
  {
   "cell_type": "code",
   "execution_count": null,
   "metadata": {},
   "outputs": [],
   "source": [
    "import random\n",
    "print(random.randrange(1, 250))\n",
    "a=int(input('enter number'))\n",
    "if(a<1 or a>250):\n",
    "    print(\"Reduce your expectation for 20-20 Cricket\")\n",
    "elif(a<=10):\n",
    "    print(\"Close By, you are True Indian Fan! \")\n",
    "elif(a>10):\n",
    "    print( \"You don't watch that much! :P \")\n",
    "\n",
    "\n"
   ]
  },
  {
   "cell_type": "code",
   "execution_count": null,
   "metadata": {},
   "outputs": [],
   "source": []
  }
 ],
 "metadata": {
  "kernelspec": {
   "display_name": "Python 3",
   "language": "python",
   "name": "python3"
  },
  "language_info": {
   "codemirror_mode": {
    "name": "ipython",
    "version": 3
   },
   "file_extension": ".py",
   "mimetype": "text/x-python",
   "name": "python",
   "nbconvert_exporter": "python",
   "pygments_lexer": "ipython3",
   "version": "3.7.4"
  }
 },
 "nbformat": 4,
 "nbformat_minor": 2
}
