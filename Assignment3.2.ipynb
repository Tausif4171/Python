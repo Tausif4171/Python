{
 "cells": [
  {
   "cell_type": "markdown",
   "metadata": {},
   "source": [
    "# Question4"
   ]
  },
  {
   "cell_type": "code",
   "execution_count": 1,
   "metadata": {},
   "outputs": [
    {
     "name": "stdout",
     "output_type": "stream",
     "text": [
      "mat\n"
     ]
    }
   ],
   "source": [
    "import re\n",
    "str=\"mat man women\"\n",
    "res=re.search(r'm\\w\\w',str)\n",
    "if res:\n",
    "    print(res.group())"
   ]
  },
  {
   "cell_type": "code",
   "execution_count": 2,
   "metadata": {},
   "outputs": [
    {
     "name": "stdout",
     "output_type": "stream",
     "text": [
      "['mat', 'man']\n"
     ]
    }
   ],
   "source": [
    "import re\n",
    "str='mat sun man'\n",
    "res=re.findall(r'm\\w\\w',str)\n",
    "print(res)"
   ]
  },
  {
   "cell_type": "markdown",
   "metadata": {},
   "source": [
    "# Question5"
   ]
  },
  {
   "cell_type": "code",
   "execution_count": 3,
   "metadata": {},
   "outputs": [
    {
     "name": "stdout",
     "output_type": "stream",
     "text": [
      "9706612345\n"
     ]
    }
   ],
   "source": [
    "import re\n",
    "str='Raju :9706612345'\n",
    "res=re.search(r'\\d+',str)\n",
    "if res:\n",
    "    print(res.group())    "
   ]
  },
  {
   "cell_type": "code",
   "execution_count": 4,
   "metadata": {},
   "outputs": [
    {
     "name": "stdout",
     "output_type": "stream",
     "text": [
      "Raju :\n"
     ]
    }
   ],
   "source": [
    "import re\n",
    "str='Raju :9706612345'\n",
    "res=re.search(r'\\D+',str)\n",
    "if res:\n",
    "    print(res.group())"
   ]
  },
  {
   "cell_type": "code",
   "execution_count": 2,
   "metadata": {},
   "outputs": [],
   "source": [
    "from tkinter import *\n",
    "\n",
    "class MyButton:\n",
    "    def __init__(self,root):\n",
    "        \n",
    "        self.f=Frame(root,height=400,width=500)\n",
    "        \n",
    "        self.f.propagate(0)\n",
    "        \n",
    "        self.f.pack()\n",
    "        \n",
    "        self.b1=Button(self.f, text='Red',width=15,height=2,command=lambda: self.buttonClick(1))\n",
    "        self.b2=Button(self.f, text='Blue',width=15,height=2,command=lambda: self.buttonClick(2))\n",
    "        self.b3=Button(self.f, text='Green',width=15,height=2,command=lambda: self.buttonClick(3))\n",
    "        \n",
    "        self.b1.pack()\n",
    "        self.b2.pack()\n",
    "        self.b3.pack()\n",
    "\n",
    "    def buttonClick(self,num):\n",
    "        if num==1:\n",
    "            self.f[\"bg\"]='red'\n",
    "        if num==2:\n",
    "            self.f[\"bg\"]='blue'\n",
    "        if num==3:\n",
    "            self.f[\"bg\"]='green'\n",
    "\n",
    "        \n",
    "root=Tk()\n",
    "mb=MyButton(root)\n",
    "root.mainloop()\n",
    "        \n"
   ]
  },
  {
   "cell_type": "code",
   "execution_count": null,
   "metadata": {},
   "outputs": [],
   "source": []
  }
 ],
 "metadata": {
  "kernelspec": {
   "display_name": "Python 3",
   "language": "python",
   "name": "python3"
  },
  "language_info": {
   "codemirror_mode": {
    "name": "ipython",
    "version": 3
   },
   "file_extension": ".py",
   "mimetype": "text/x-python",
   "name": "python",
   "nbconvert_exporter": "python",
   "pygments_lexer": "ipython3",
   "version": "3.7.4"
  }
 },
 "nbformat": 4,
 "nbformat_minor": 2
}
