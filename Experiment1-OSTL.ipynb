{
 "cells": [
  {
   "cell_type": "markdown",
   "metadata": {},
   "source": [
    "# Name- Tausif Khan\n",
    "# Roll.no- 12\n",
    "# Branch- SE/COMPS\n",
    "# Div- B\n",
    "# Subject- OSTL LAB\n"
   ]
  },
  {
   "cell_type": "markdown",
   "metadata": {},
   "source": [
    "a) A python program to access each element of a string in forward and reverse orders\n",
    "and check if the entered string is a palindrome."
   ]
  },
  {
   "cell_type": "code",
   "execution_count": 3,
   "metadata": {
    "cocalc": {
     "outputs": {
      "0": {
       "name": "input",
       "opts": {
        "password": false,
        "prompt": "ENTER THE STRING "
       },
       "output_type": "stream",
       "value": "Mom"
      }
     }
    }
   },
   "outputs": [
    {
     "name": "stdout",
     "output_type": "stream",
     "text": [
      "Enter the String: Apple\n",
      "The String is  Apple\n",
      "The Reverse String is elppA\n",
      "Not a palindrome\n"
     ]
    }
   ],
   "source": [
    "x=input(\"Enter the String: \")\n",
    "print(\"The String is \" ,x)\n",
    "x=x.strip()\n",
    "rev=x[-1 : : -1]\n",
    "print(\"The Reverse String is\",rev)\n",
    "l=len(rev)\n",
    "rev=rev.lower()\n",
    "x=x.lower()\n",
    "if rev==x:\n",
    "    print(\"Is a palindrome\")\n",
    "else:\n",
    "    print(\"Not a palindrome\")"
   ]
  },
  {
   "cell_type": "markdown",
   "metadata": {},
   "source": [
    "b) A Python program to find the length of a string without using len() function."
   ]
  },
  {
   "cell_type": "code",
   "execution_count": 3,
   "metadata": {},
   "outputs": [
    {
     "name": "stdout",
     "output_type": "stream",
     "text": [
      "THE STRING IS: THIS IS PYTHON\n",
      "THE NUMBER OF LETTERS ARE: 14\n",
      "THE NUMBER OF WORDS ARE: 3\n"
     ]
    }
   ],
   "source": [
    "s=\"THIS IS PYTHON\"\n",
    "c=0\n",
    "w=1\n",
    "for i in s:\n",
    "    c+=1\n",
    "    if(i==' '):\n",
    "        w+=1\n",
    "print(\"THE STRING IS:\",s)\n",
    "print(\"THE NUMBER OF LETTERS ARE:\",c)\n",
    "print(\"THE NUMBER OF WORDS ARE:\",w)"
   ]
  },
  {
   "cell_type": "markdown",
   "metadata": {},
   "source": [
    "c) A Python program to know whether a sub string exists in main string or not."
   ]
  },
  {
   "cell_type": "code",
   "execution_count": 4,
   "metadata": {},
   "outputs": [
    {
     "name": "stdout",
     "output_type": "stream",
     "text": [
      "THE STRING IS PRESENT\n",
      "THE POSITION IS 2\n"
     ]
    }
   ],
   "source": [
    "s1=\"THIS IS PYTHON\"\n",
    "s2=\"IS\"\n",
    "n=s1.find(s2,0,len(s1))\n",
    "if n==-1:\n",
    "    print(\"THE STRING IS ABSENT\")\n",
    "else:    \n",
    "    print(\"THE STRING IS PRESENT\")\n",
    "    print(\"THE POSITION IS\",n)"
   ]
  },
  {
   "cell_type": "markdown",
   "metadata": {},
   "source": [
    "d) A Python program to insert a sub string in a string in a particular position."
   ]
  },
  {
   "cell_type": "code",
   "execution_count": 5,
   "metadata": {},
   "outputs": [
    {
     "name": "stdout",
     "output_type": "stream",
     "text": [
      "TUESDAY IS A HOLIDAY\n"
     ]
    }
   ],
   "source": [
    "s1=\"TUESDAY IS A DAY\"\n",
    "s2=\"HOLI\"\n",
    "n=13\n",
    "new=[]\n",
    "for i in range(0,n):\n",
    "    new.append(s1[i])\n",
    "for i in s2:\n",
    "    new.append(i)\n",
    "for i in range(n,len(s1)):\n",
    "    new.append(s1[i])\n",
    "new=''.join(new)        \n",
    "print(new)    "
   ]
  }
 ],
 "metadata": {
  "kernelspec": {
   "display_name": "Python 3",
   "language": "python",
   "name": "python3"
  },
  "language_info": {
   "codemirror_mode": {
    "name": "ipython",
    "version": 3
   },
   "file_extension": ".py",
   "mimetype": "text/x-python",
   "name": "python",
   "nbconvert_exporter": "python",
   "pygments_lexer": "ipython3",
   "version": "3.7.4"
  }
 },
 "nbformat": 4,
 "nbformat_minor": 4
}
