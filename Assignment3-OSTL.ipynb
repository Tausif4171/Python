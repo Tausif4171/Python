{
 "cells": [
  {
   "cell_type": "markdown",
   "metadata": {},
   "source": [
    "# Name:  Tausif Khan\n",
    "# Rollno: 12\n",
    "# Branch: SE/COMPS \n",
    "# Div: B\n",
    "# Course Name: Open Source Technology Lab (OSTL) \n",
    "# Assignment No.3"
   ]
  },
  {
   "cell_type": "markdown",
   "metadata": {},
   "source": [
    "1.a) A Python program to create a text file to store individual characters. "
   ]
  },
  {
   "cell_type": "code",
   "execution_count": 1,
   "metadata": {},
   "outputs": [
    {
     "name": "stdout",
     "output_type": "stream",
     "text": [
      "Enter text: Hii i'm John Doe\n"
     ]
    }
   ],
   "source": [
    "f=open('myfile.txt','w')\n",
    "str=input('Enter text: ')\n",
    "f.write(str)\n",
    "f.close()"
   ]
  },
  {
   "cell_type": "markdown",
   "metadata": {},
   "source": [
    "1.b) A Python program to read all the strings from the text file and display them. "
   ]
  },
  {
   "cell_type": "code",
   "execution_count": 4,
   "metadata": {},
   "outputs": [
    {
     "name": "stdout",
     "output_type": "stream",
     "text": [
      "The file contents are: \n",
      "Hii i'm John Doe\n"
     ]
    }
   ],
   "source": [
    "f=open('myfile.txt','r')\n",
    "print('The file contents are: ')\n",
    "str=f.read()\n",
    "print(str)\n",
    "f.close()"
   ]
  },
  {
   "cell_type": "markdown",
   "metadata": {},
   "source": [
    "1.c) A Python program to know whether a file exists or not. "
   ]
  },
  {
   "cell_type": "code",
   "execution_count": 6,
   "metadata": {},
   "outputs": [
    {
     "name": "stdout",
     "output_type": "stream",
     "text": [
      "enter filename: myfile.txt\n",
      "The file contents are: \n",
      "Hii i'm John Doe\n"
     ]
    }
   ],
   "source": [
    "import os,sys\n",
    "fname=input('enter filename: ')\n",
    "if os.path.isfile(fname):\n",
    "    f=open(fname,'r')\n",
    "else:\n",
    "    print(fname+'does not exist')\n",
    "    sys.exit()\n",
    "print('The file contents are: ')\n",
    "str=f.read()\n",
    "print(str)\n",
    "f.close()"
   ]
  },
  {
   "cell_type": "markdown",
   "metadata": {},
   "source": [
    "2.a) A Python program to copy an image file into another file. "
   ]
  },
  {
   "cell_type": "code",
   "execution_count": null,
   "metadata": {},
   "outputs": [],
   "source": [
    "#2.\n",
    "#open the files in binary mode\n",
    "f1=open('cat.jpg','rb')\n",
    "f2=open('dog.jpg','wb')\n",
    "#read bytes from f1 and write into f2\n",
    "bytes=f1.read()\n",
    "f2.write(bytes)\n",
    "\n",
    "#close the files\n",
    "f1.close()\n",
    "f2.close()"
   ]
  },
  {
   "cell_type": "markdown",
   "metadata": {},
   "source": [
    "2.b)  A Python program to use ‘with’ to open a file and write some strings into the file. "
   ]
  },
  {
   "cell_type": "code",
   "execution_count": 2,
   "metadata": {},
   "outputs": [],
   "source": [
    "#with statement to open a file\n",
    "with open('cat.txt','w') as f:\n",
    "    f.write(\"I am Learner\\n\")\n",
    "    f.write(\"Keep Learning\")"
   ]
  },
  {
   "cell_type": "markdown",
   "metadata": {},
   "source": [
    "2.c) A Python program to create phone book with names and phone numbers. "
   ]
  },
  {
   "cell_type": "code",
   "execution_count": 1,
   "metadata": {},
   "outputs": [
    {
     "name": "stdout",
     "output_type": "stream",
     "text": [
      "enter how many entries1\n",
      "enter name: John\n",
      "enter phone number: 9578911044\n"
     ]
    }
   ],
   "source": [
    "with open (\"phonebook.dat\",\"wb\") as f:\n",
    "    n=int(input(\"enter how many entries\"))\n",
    "    for i in range(n):\n",
    "        name=input(\"enter name: \")\n",
    "        phone=input(\"enter phone number: \")\n",
    "        #convert name and phone from strings to bytes\n",
    "        name=name.encode()\n",
    "        phone=phone.encode()\n",
    "        f.write(name+phone)"
   ]
  },
  {
   "cell_type": "markdown",
   "metadata": {},
   "source": [
    "3.a) A Python program to rename a directory. "
   ]
  },
  {
   "cell_type": "code",
   "execution_count": 2,
   "metadata": {},
   "outputs": [],
   "source": [
    "import os\n",
    "os.rename('newphonebook','newphonebook1')"
   ]
  },
  {
   "cell_type": "markdown",
   "metadata": {},
   "source": [
    "3.b) A Python program to display all contents of the current directory."
   ]
  },
  {
   "cell_type": "code",
   "execution_count": null,
   "metadata": {},
   "outputs": [],
   "source": [
    "import os\n",
    "for dirpath,dirnames,filenames in os.walk('.'):\n",
    "    print('current path: ',dirpath)\n",
    "    print('Directories: ',dirnames)\n",
    "    print('files: ',filenames)\n",
    "    print()"
   ]
  },
  {
   "cell_type": "markdown",
   "metadata": {},
   "source": [
    "4.a) A Python program to create a regular expression to search for strings starting with m and having total 3 characters using the search() method. "
   ]
  },
  {
   "cell_type": "code",
   "execution_count": 24,
   "metadata": {},
   "outputs": [
    {
     "name": "stdout",
     "output_type": "stream",
     "text": [
      "mat\n"
     ]
    }
   ],
   "source": [
    "import re\n",
    "str=\"mat man women\"\n",
    "res=re.search(r'm\\w\\w',str)\n",
    "if res:\n",
    "    print(res.group())"
   ]
  },
  {
   "cell_type": "markdown",
   "metadata": {},
   "source": [
    "4.b) A Python program to create a regular expression to search for strings starting with m and having total 3 characters using the findall() method. "
   ]
  },
  {
   "cell_type": "code",
   "execution_count": 2,
   "metadata": {},
   "outputs": [
    {
     "name": "stdout",
     "output_type": "stream",
     "text": [
      "['mat', 'man']\n"
     ]
    }
   ],
   "source": [
    "import re\n",
    "str='mat sun man'\n",
    "res=re.findall(r'm\\w\\w',str)\n",
    "print(res)"
   ]
  },
  {
   "cell_type": "markdown",
   "metadata": {},
   "source": [
    "5.a) A Python program to create a regular expression to retrieve the phone number of a person."
   ]
  },
  {
   "cell_type": "code",
   "execution_count": 3,
   "metadata": {},
   "outputs": [
    {
     "name": "stdout",
     "output_type": "stream",
     "text": [
      "9706612345\n"
     ]
    }
   ],
   "source": [
    "import re\n",
    "str='Raju :9706612345'\n",
    "res=re.search(r'\\d+',str)\n",
    "if res:\n",
    "    print(res.group())    "
   ]
  },
  {
   "cell_type": "markdown",
   "metadata": {},
   "source": [
    "5.b) A Python program to create a regular expression to extract only name but not number from a string. "
   ]
  },
  {
   "cell_type": "code",
   "execution_count": 4,
   "metadata": {},
   "outputs": [
    {
     "name": "stdout",
     "output_type": "stream",
     "text": [
      "Raju :\n"
     ]
    }
   ],
   "source": [
    "import re\n",
    "str='Raju :9706612345'\n",
    "res=re.search(r'\\D+',str)\n",
    "if res:\n",
    "    print(res.group())"
   ]
  },
  {
   "cell_type": "markdown",
   "metadata": {},
   "source": [
    "6.a) A Python program to find the IP Address of a website. "
   ]
  },
  {
   "cell_type": "code",
   "execution_count": 12,
   "metadata": {},
   "outputs": [
    {
     "name": "stdout",
     "output_type": "stream",
     "text": [
      "IP Address: 216.58.196.67\n"
     ]
    }
   ],
   "source": [
    "#knowing ip address of website\n",
    "import socket\n",
    "#take the server name\n",
    "host='www.google.co.in'\n",
    "try:\n",
    "    address=socket.gethostbyname(host)\n",
    "    print('IP Address: '+address)\n",
    "\n",
    "except socket.gaierror:\n",
    "    print('The website does not exist')\n",
    "    "
   ]
  },
  {
   "cell_type": "markdown",
   "metadata": {},
   "source": [
    "6.b) A Python program to create a TCP/IP server program that sends message to a client."
   ]
  },
  {
   "cell_type": "code",
   "execution_count": null,
   "metadata": {},
   "outputs": [],
   "source": [
    "import socket\n",
    "host='localhost'\n",
    "port=8080\n",
    "#create a socket at server side using TCP/IP protocol\n",
    "s=socket.socket(socket.AF_INET,socket.SOCK_STREAM)\n",
    "#bind the socket with server and port number\n",
    "s.bind((host,port))\n",
    "#allow maximum 1 connection to the socket\n",
    "s.listen(1)\n",
    "#wait till a client accepts connection\n",
    "c,addr=s.accept()\n",
    "#display client address\n",
    "print(\"Connection from: \",str(addr))\n",
    "#send messages to the client after encoding into binary string\n",
    "c.send(b\"Hello client, How are you \")\n",
    "msg=\"Bye!\"\n",
    "c.send(msg.encode())\n",
    "#disconnect the server\n",
    "c.close()"
   ]
  },
  {
   "cell_type": "markdown",
   "metadata": {},
   "source": [
    "6.c) A Python program to create a TCP/IP client program that receives messages from the server. "
   ]
  },
  {
   "cell_type": "code",
   "execution_count": null,
   "metadata": {},
   "outputs": [],
   "source": [
    "import socket\n",
    "host='localhost'\n",
    "port=8080\n",
    "#create a client side socket using TCP/IP protocol\n",
    "s=socket.socket(socket.AF_INET,socket.SOCK_STREAM)\n",
    "#connect it to server and port number\n",
    "s.connect((host,port))\n",
    "#receive message string from server, at a time 1024 Bytes\n",
    "msg=s.recv(1024)\n",
    "#repeat as long as message strings are not empty\n",
    "while msg:\n",
    "    print('Received: '+msg.decode())\n",
    "    msg=s.recv(1024)\n",
    "    \n",
    "#disconnect the client\n",
    "s.close()"
   ]
  },
  {
   "cell_type": "markdown",
   "metadata": {},
   "source": [
    "7.a) A Python program to create a UDP server that sends messages to the client."
   ]
  },
  {
   "cell_type": "code",
   "execution_count": null,
   "metadata": {},
   "outputs": [],
   "source": [
    "#a UDP server that sends messages to client\n",
    "import socket\n",
    "import time\n",
    "\n",
    "#take the server name and port number\n",
    "host='localhost'\n",
    "port=8080\n",
    "\n",
    "#create a socket at server side to use UDP protocol\n",
    "s=socket.socket(socket.AF_INET,socket.SOCK_DGRAM)\n",
    "#let the server waits for 5 seconds\n",
    "time.sleep(5)\n",
    "#send messages to the client after encoding into binary strings\n",
    "s.sendto(b\"Hello client, How are you \",(host,port))\n",
    "msg=\"Bye!\"\n",
    "s.send(msg.encode(),(host,port))\n",
    "#disconnect the server\n",
    "s.close()"
   ]
  },
  {
   "cell_type": "markdown",
   "metadata": {},
   "source": [
    "7.b) A Python program to create a UDP client that receives messages from the server."
   ]
  },
  {
   "cell_type": "code",
   "execution_count": null,
   "metadata": {},
   "outputs": [],
   "source": [
    "#a UDP client that receives messages from server\n",
    "import socket\n",
    "host='localhost'\n",
    "port=8080\n",
    "\n",
    "#create a socket at client side that uses UDP protocol\n",
    "s=socket.socket(socket.AF_INET,socket.SOCK_DGRAM)\n",
    "#connect it to server with host name and port number\n",
    "s.bind((host,port))\n",
    "#receive message string from server, at a time 1024 Bytes\n",
    "msg, addr=s.recvfrom(1024)\n",
    "try:\n",
    "    #let the socket blocks after 5 seconds if the seever disconnects\n",
    "    s.settimeout(5)\n",
    "    \n",
    "    #repeat as long as message strings are not empty\n",
    "    while msg:\n",
    "        print('Received: '+msg.decode())\n",
    "        msg, addr=s.recvfrom(1024)\n",
    "except socket.timeout:\n",
    "    print(\"Time is over and hence terminating......\")\n",
    "\n",
    "#disconnect the client\n",
    "s.close()\n"
   ]
  },
  {
   "cell_type": "markdown",
   "metadata": {},
   "source": [
    "8.A python program to perform operations on a queue given below:\n",
    "    a) Add a new element \n",
    "    b) Delete an element \n",
    "    c) Search the position of a given element "
   ]
  },
  {
   "cell_type": "code",
   "execution_count": 2,
   "metadata": {},
   "outputs": [
    {
     "name": "stdout",
     "output_type": "stream",
     "text": [
      "Queue Operations\n",
      "1 Add element\n",
      "2 Delete element\n",
      "3 Search for element\n",
      "4. Exit\n",
      "your choice: 1\n",
      "Enter element: 2\n",
      "queue=  [2.0]\n",
      "Queue Operations\n",
      "1 Add element\n",
      "2 Delete element\n",
      "3 Search for element\n",
      "4. Exit\n",
      "your choice: 1\n",
      "Enter element: 3\n",
      "queue=  [2.0, 3.0]\n",
      "Queue Operations\n",
      "1 Add element\n",
      "2 Delete element\n",
      "3 Search for element\n",
      "4. Exit\n",
      "your choice: 1\n",
      "Enter element: 4\n",
      "queue=  [2.0, 3.0, 4.0]\n",
      "Queue Operations\n",
      "1 Add element\n",
      "2 Delete element\n",
      "3 Search for element\n",
      "4. Exit\n",
      "your choice: 2\n",
      "Remove element 2.0\n",
      "queue=  [3.0, 4.0]\n",
      "Queue Operations\n",
      "1 Add element\n",
      "2 Delete element\n",
      "3 Search for element\n",
      "4. Exit\n",
      "your choice: 3\n",
      "Enter element: 3\n",
      "Element found at position:  1\n",
      "queue=  [3.0, 4.0]\n",
      "Queue Operations\n",
      "1 Add element\n",
      "2 Delete element\n",
      "3 Search for element\n",
      "4. Exit\n",
      "your choice: 4\n"
     ]
    }
   ],
   "source": [
    "class Queue:\n",
    "    \n",
    "    def __init__(self):\n",
    "        self.qu=[]\n",
    "        \n",
    "    def isempty(self):\n",
    "        return self.qu==[]\n",
    "    \n",
    "    def add(self,ele):\n",
    "        self.qu.append(ele)\n",
    "        \n",
    "    def delete(self):\n",
    "        if self.isempty():\n",
    "            return -1\n",
    "        else:\n",
    "            return self.qu.pop(0)\n",
    "        \n",
    "    def search(self,ele):\n",
    "        if self.isempty():\n",
    "            return -1\n",
    "        else:\n",
    "            try:\n",
    "                n=self.qu.index(ele)\n",
    "                return n+1\n",
    "            except ValueError:\n",
    "                return -2\n",
    "            \n",
    "    def display(self):\n",
    "        return self.qu\n",
    "q=Queue()\n",
    "choice=0\n",
    "while choice<4:\n",
    "    print('Queue Operations')\n",
    "\n",
    "    print('1 Add element')\n",
    "    print('2 Delete element')\n",
    "    print('3 Search for element')\n",
    "    print('4. Exit')\n",
    "    choice=int(input('your choice: '))\n",
    "\n",
    "    if choice==1:\n",
    "        ele=float(input('Enter element: '))\n",
    "        q.add(ele)\n",
    "    elif choice==2:\n",
    "        ele=q.delete()\n",
    "        if ele==-1:\n",
    "            print(\"The queue is empty\")\n",
    "        else:\n",
    "            print(\"Remove element\",ele)\n",
    "            \n",
    "    elif choice==3:\n",
    "        ele=float(input('Enter element: '))\n",
    "        pos=q.search(ele)\n",
    "        if pos==-1:\n",
    "            print(\"The queue is empty\")\n",
    "    \n",
    "        elif pos==-2:\n",
    "            print(\"Element not found in the queue\")\n",
    "        else:\n",
    "            print(\"Element found at position: \",pos)\n",
    "    else:\n",
    "        break\n",
    "    print('queue= ',q.display())\n",
    "\n"
   ]
  },
  {
   "cell_type": "markdown",
   "metadata": {},
   "source": [
    "9.A python program to create and use deque and perform the following operation: a) Add an element at the front. b) Delete element at the front c) Add element at the rear d) Delete an element at the rear e) Delete an element at any place f) Search for an element in the deque g) Reverse the dequeue"
   ]
  },
  {
   "cell_type": "code",
   "execution_count": 1,
   "metadata": {},
   "outputs": [
    {
     "name": "stdout",
     "output_type": "stream",
     "text": [
      "DEQUE OPERATIONS\n",
      "1 Add an element at front\n",
      "2 Delete an element at front\n",
      "3 Add an element at the rear\n",
      "4 Delete an element at the rear\n",
      "5 Delete an element at any place\n",
      "6 Search for an element in the deque\n",
      "Your choice: 1\n",
      "Enter element: 10\n",
      "Dequeue= 10 \n",
      "DEQUE OPERATIONS\n",
      "1 Add an element at front\n",
      "2 Delete an element at front\n",
      "3 Add an element at the rear\n",
      "4 Delete an element at the rear\n",
      "5 Delete an element at any place\n",
      "6 Search for an element in the deque\n",
      "Your choice: 1\n",
      "Enter element: 20\n",
      "Dequeue= 20 10 \n",
      "DEQUE OPERATIONS\n",
      "1 Add an element at front\n",
      "2 Delete an element at front\n",
      "3 Add an element at the rear\n",
      "4 Delete an element at the rear\n",
      "5 Delete an element at any place\n",
      "6 Search for an element in the deque\n",
      "Your choice: 1\n",
      "Enter element: 30\n",
      "Dequeue= 30 20 10 \n",
      "DEQUE OPERATIONS\n",
      "1 Add an element at front\n",
      "2 Delete an element at front\n",
      "3 Add an element at the rear\n",
      "4 Delete an element at the rear\n",
      "5 Delete an element at any place\n",
      "6 Search for an element in the deque\n",
      "Your choice: 2\n",
      "Dequeue= 20 10 \n",
      "DEQUE OPERATIONS\n",
      "1 Add an element at front\n",
      "2 Delete an element at front\n",
      "3 Add an element at the rear\n",
      "4 Delete an element at the rear\n",
      "5 Delete an element at any place\n",
      "6 Search for an element in the deque\n",
      "Your choice: 3\n",
      "Enter element: 40\n",
      "Dequeue= 20 10 40 \n",
      "DEQUE OPERATIONS\n",
      "1 Add an element at front\n",
      "2 Delete an element at front\n",
      "3 Add an element at the rear\n",
      "4 Delete an element at the rear\n",
      "5 Delete an element at any place\n",
      "6 Search for an element in the deque\n",
      "Your choice: 4\n",
      "Dequeue= 20 10 \n",
      "DEQUE OPERATIONS\n",
      "1 Add an element at front\n",
      "2 Delete an element at front\n",
      "3 Add an element at the rear\n",
      "4 Delete an element at the rear\n",
      "5 Delete an element at any place\n",
      "6 Search for an element in the deque\n",
      "Your choice: 5\n",
      "Enter element: 10\n",
      "Dequeue= 20 \n",
      "DEQUE OPERATIONS\n",
      "1 Add an element at front\n",
      "2 Delete an element at front\n",
      "3 Add an element at the rear\n",
      "4 Delete an element at the rear\n",
      "5 Delete an element at any place\n",
      "6 Search for an element in the deque\n",
      "Your choice: 6\n",
      "Enter element: 20\n",
      "No. of times the element found:  1\n",
      "Dequeue= 20 \n",
      "DEQUE OPERATIONS\n",
      "1 Add an element at front\n",
      "2 Delete an element at front\n",
      "3 Add an element at the rear\n",
      "4 Delete an element at the rear\n",
      "5 Delete an element at any place\n",
      "6 Search for an element in the deque\n",
      "Your choice: 7\n"
     ]
    }
   ],
   "source": [
    "# dequeue operations\n",
    "from collections import deque\n",
    "\n",
    "#create an empty dequeue\n",
    "d=deque()\n",
    "choice=0\n",
    "while choice<7:\n",
    "    print(\"DEQUE OPERATIONS\")\n",
    "    print(\"1 Add an element at front\")\n",
    "    print(\"2 Delete an element at front\")\n",
    "    print(\"3 Add an element at the rear\")\n",
    "    print(\"4 Delete an element at the rear\")\n",
    "    print(\"5 Delete an element at any place\")\n",
    "    print(\"6 Search for an element in the deque\")\n",
    "    choice=int(input('Your choice: '))\n",
    "    #perform a task depending on your choice\n",
    "    if choice==1:\n",
    "        ele=input(\"Enter element: \")\n",
    "        d.appendleft(ele)\n",
    "    elif choice==2:\n",
    "        if len(d)==0:\n",
    "            print('Deque is emppty')\n",
    "        else:\n",
    "            d.popleft()\n",
    "    elif choice==3:\n",
    "        ele=input(\"Enter element: \")\n",
    "        d.append(ele)\n",
    "    \n",
    "    elif choice==4:\n",
    "        if len(d)==0:\n",
    "            print('Deque is emppty')\n",
    "        else:\n",
    "            d.pop()\n",
    "            \n",
    "    elif choice==5:\n",
    "        ele=input(\"Enter element: \")\n",
    "        try:\n",
    "            d.remove(ele)\n",
    "        except ValueError:\n",
    "            print(\"Element not found\")\n",
    "    elif choice==6:\n",
    "        ele=input(\"Enter element: \")\n",
    "        c=d.count(ele)\n",
    "        print(\"No. of times the element found: \",c)\n",
    "    else:\n",
    "        break\n",
    "        \n",
    "    #display the dequeue elements using for loop\n",
    "    print('Dequeue= ',end='')\n",
    "    for i in d:\n",
    "        print(i,'',end='')\n",
    "    print()  #move cursor to next line\n",
    "    "
   ]
  },
  {
   "cell_type": "markdown",
   "metadata": {},
   "source": [
    "10.A python program to create three push buttons and change the background of the frame according to the button clicked by the user. "
   ]
  },
  {
   "cell_type": "code",
   "execution_count": 9,
   "metadata": {},
   "outputs": [],
   "source": [
    "from tkinter import *\n",
    "\n",
    "class MyButton:\n",
    "    def __init__(self,root):\n",
    "        \n",
    "        self.f=Frame(root,height=400,width=500)\n",
    "        \n",
    "        self.f.propagate(0)\n",
    "        \n",
    "        self.f.pack()\n",
    "        \n",
    "        self.b1=Button(self.f, text='Red',width=15,height=2,command=lambda: self.buttonClick(1))\n",
    "        self.b2=Button(self.f, text='Blue',width=15,height=2,command=lambda: self.buttonClick(2))\n",
    "        self.b3=Button(self.f, text='Green',width=15,height=2,command=lambda: self.buttonClick(3))\n",
    "        \n",
    "        self.b1.pack()\n",
    "        self.b2.pack()\n",
    "        self.b3.pack()\n",
    "\n",
    "    def buttonClick(self,num):\n",
    "        if num==1:\n",
    "            self.f[\"bg\"]='red'\n",
    "        if num==2:\n",
    "            self.f[\"bg\"]='blue'\n",
    "        if num==3:\n",
    "            self.f[\"bg\"]='green'\n",
    "\n",
    "        \n",
    "root=Tk()\n",
    "mb=MyButton(root)\n",
    "root.mainloop()\n",
    "        \n"
   ]
  },
  {
   "cell_type": "markdown",
   "metadata": {},
   "source": [
    "11.A Python program using GUI to retrieve a row from a MySQL database table "
   ]
  },
  {
   "cell_type": "code",
   "execution_count": null,
   "metadata": {},
   "outputs": [],
   "source": [
    "import MySQLdb\n",
    "from tkinter import *\n",
    "from tkinter import ttk\n",
    "import random\n",
    "import time;\n",
    "\n",
    "try:\n",
    "    connection = mysql.connector.connect(host='localhost',\n",
    "    database='Student',\n",
    "    user='tausif',\n",
    "    password='1234')\n",
    "\n",
    "    sql_select_Query = \"select * from Student\"\n",
    "    cursor = connection.cursor()\n",
    "    cursor.execute(sql_select_Query)\n",
    "    records = cursor.fetchall()\n",
    "    print(\"Total number of rows in Student is: \", cursor.rowcount)\n",
    "\n",
    "    print(\"\\nPrinting each student record\")\n",
    "    for row in records:\n",
    "        print(\"Id = \", row[0], )\n",
    "        print(\"Name = \", row[1])\n",
    "        print(\"Price  = \", row[2])\n",
    "        print(\"Purchase date  = \", row[3], \"\\n\")\n",
    "\n",
    "except Error as e:\n",
    "    print(\"Error reading data from MySQL table\", e)\n",
    "finally:\n",
    "    if (connection.is_connected()):\n",
    "        connection.close()\n",
    "        cursor.close()\n",
    "print(\"MySQL connection is closed\")\n"
   ]
  },
  {
   "cell_type": "code",
   "execution_count": null,
   "metadata": {},
   "outputs": [],
   "source": []
  },
  {
   "cell_type": "code",
   "execution_count": null,
   "metadata": {},
   "outputs": [],
   "source": []
  }
 ],
 "metadata": {
  "kernelspec": {
   "display_name": "Python 3",
   "language": "python",
   "name": "python3"
  },
  "language_info": {
   "codemirror_mode": {
    "name": "ipython",
    "version": 3
   },
   "file_extension": ".py",
   "mimetype": "text/x-python",
   "name": "python",
   "nbconvert_exporter": "python",
   "pygments_lexer": "ipython3",
   "version": "3.7.4"
  }
 },
 "nbformat": 4,
 "nbformat_minor": 2
}
